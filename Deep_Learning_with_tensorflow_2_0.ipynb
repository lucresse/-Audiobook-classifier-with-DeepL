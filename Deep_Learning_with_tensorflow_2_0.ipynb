{
  "nbformat": 4,
  "nbformat_minor": 0,
  "metadata": {
    "kernelspec": {
      "display_name": "Python 3",
      "language": "python",
      "name": "python3"
    },
    "language_info": {
      "codemirror_mode": {
        "name": "ipython",
        "version": 3
      },
      "file_extension": ".py",
      "mimetype": "text/x-python",
      "name": "python",
      "nbconvert_exporter": "python",
      "pygments_lexer": "ipython3",
      "version": "3.7.3"
    },
    "colab": {
      "name": "Deep_Learning_with_tensorflow_2_0.ipynb",
      "provenance": [],
      "collapsed_sections": [],
      "toc_visible": true
    },
    "accelerator": "GPU",
    "widgets": {
      "application/vnd.jupyter.widget-state+json": {
        "040c3e5f40fa4c398a0fedfc128ae992": {
          "model_module": "@jupyter-widgets/controls",
          "model_name": "HBoxModel",
          "state": {
            "_view_name": "HBoxView",
            "_dom_classes": [],
            "_model_name": "HBoxModel",
            "_view_module": "@jupyter-widgets/controls",
            "_model_module_version": "1.5.0",
            "_view_count": null,
            "_view_module_version": "1.5.0",
            "box_style": "",
            "layout": "IPY_MODEL_64474e238476402eb7dd44bcbf436c08",
            "_model_module": "@jupyter-widgets/controls",
            "children": [
              "IPY_MODEL_4729cdf5a11047f8bd1502ee19efdd49",
              "IPY_MODEL_9b5731ff61f34ef2955b08e2f6c56975"
            ]
          }
        },
        "64474e238476402eb7dd44bcbf436c08": {
          "model_module": "@jupyter-widgets/base",
          "model_name": "LayoutModel",
          "state": {
            "_view_name": "LayoutView",
            "grid_template_rows": null,
            "right": null,
            "justify_content": null,
            "_view_module": "@jupyter-widgets/base",
            "overflow": null,
            "_model_module_version": "1.2.0",
            "_view_count": null,
            "flex_flow": null,
            "width": null,
            "min_width": null,
            "border": null,
            "align_items": null,
            "bottom": null,
            "_model_module": "@jupyter-widgets/base",
            "top": null,
            "grid_column": null,
            "overflow_y": null,
            "overflow_x": null,
            "grid_auto_flow": null,
            "grid_area": null,
            "grid_template_columns": null,
            "flex": null,
            "_model_name": "LayoutModel",
            "justify_items": null,
            "grid_row": null,
            "max_height": null,
            "align_content": null,
            "visibility": null,
            "align_self": null,
            "height": null,
            "min_height": null,
            "padding": null,
            "grid_auto_rows": null,
            "grid_gap": null,
            "max_width": null,
            "order": null,
            "_view_module_version": "1.2.0",
            "grid_template_areas": null,
            "object_position": null,
            "object_fit": null,
            "grid_auto_columns": null,
            "margin": null,
            "display": null,
            "left": null
          }
        },
        "4729cdf5a11047f8bd1502ee19efdd49": {
          "model_module": "@jupyter-widgets/controls",
          "model_name": "IntProgressModel",
          "state": {
            "_view_name": "ProgressView",
            "style": "IPY_MODEL_51572dc1f42040edb317a4ec5318fac7",
            "_dom_classes": [],
            "description": "Dl Completed...: 100%",
            "_model_name": "IntProgressModel",
            "bar_style": "success",
            "max": 4,
            "_view_module": "@jupyter-widgets/controls",
            "_model_module_version": "1.5.0",
            "value": 4,
            "_view_count": null,
            "_view_module_version": "1.5.0",
            "orientation": "horizontal",
            "min": 0,
            "description_tooltip": null,
            "_model_module": "@jupyter-widgets/controls",
            "layout": "IPY_MODEL_043adb31b0994055b64beb800f7a5002"
          }
        },
        "9b5731ff61f34ef2955b08e2f6c56975": {
          "model_module": "@jupyter-widgets/controls",
          "model_name": "HTMLModel",
          "state": {
            "_view_name": "HTMLView",
            "style": "IPY_MODEL_69685db07b7f4b99ae1c187621b7cdd9",
            "_dom_classes": [],
            "description": "",
            "_model_name": "HTMLModel",
            "placeholder": "​",
            "_view_module": "@jupyter-widgets/controls",
            "_model_module_version": "1.5.0",
            "value": " 4/4 [00:00&lt;00:00,  7.69 file/s]",
            "_view_count": null,
            "_view_module_version": "1.5.0",
            "description_tooltip": null,
            "_model_module": "@jupyter-widgets/controls",
            "layout": "IPY_MODEL_6bbc76210940482bb54474edfe0c79ba"
          }
        },
        "51572dc1f42040edb317a4ec5318fac7": {
          "model_module": "@jupyter-widgets/controls",
          "model_name": "ProgressStyleModel",
          "state": {
            "_view_name": "StyleView",
            "_model_name": "ProgressStyleModel",
            "description_width": "initial",
            "_view_module": "@jupyter-widgets/base",
            "_model_module_version": "1.5.0",
            "_view_count": null,
            "_view_module_version": "1.2.0",
            "bar_color": null,
            "_model_module": "@jupyter-widgets/controls"
          }
        },
        "043adb31b0994055b64beb800f7a5002": {
          "model_module": "@jupyter-widgets/base",
          "model_name": "LayoutModel",
          "state": {
            "_view_name": "LayoutView",
            "grid_template_rows": null,
            "right": null,
            "justify_content": null,
            "_view_module": "@jupyter-widgets/base",
            "overflow": null,
            "_model_module_version": "1.2.0",
            "_view_count": null,
            "flex_flow": null,
            "width": null,
            "min_width": null,
            "border": null,
            "align_items": null,
            "bottom": null,
            "_model_module": "@jupyter-widgets/base",
            "top": null,
            "grid_column": null,
            "overflow_y": null,
            "overflow_x": null,
            "grid_auto_flow": null,
            "grid_area": null,
            "grid_template_columns": null,
            "flex": null,
            "_model_name": "LayoutModel",
            "justify_items": null,
            "grid_row": null,
            "max_height": null,
            "align_content": null,
            "visibility": null,
            "align_self": null,
            "height": null,
            "min_height": null,
            "padding": null,
            "grid_auto_rows": null,
            "grid_gap": null,
            "max_width": null,
            "order": null,
            "_view_module_version": "1.2.0",
            "grid_template_areas": null,
            "object_position": null,
            "object_fit": null,
            "grid_auto_columns": null,
            "margin": null,
            "display": null,
            "left": null
          }
        },
        "69685db07b7f4b99ae1c187621b7cdd9": {
          "model_module": "@jupyter-widgets/controls",
          "model_name": "DescriptionStyleModel",
          "state": {
            "_view_name": "StyleView",
            "_model_name": "DescriptionStyleModel",
            "description_width": "",
            "_view_module": "@jupyter-widgets/base",
            "_model_module_version": "1.5.0",
            "_view_count": null,
            "_view_module_version": "1.2.0",
            "_model_module": "@jupyter-widgets/controls"
          }
        },
        "6bbc76210940482bb54474edfe0c79ba": {
          "model_module": "@jupyter-widgets/base",
          "model_name": "LayoutModel",
          "state": {
            "_view_name": "LayoutView",
            "grid_template_rows": null,
            "right": null,
            "justify_content": null,
            "_view_module": "@jupyter-widgets/base",
            "overflow": null,
            "_model_module_version": "1.2.0",
            "_view_count": null,
            "flex_flow": null,
            "width": null,
            "min_width": null,
            "border": null,
            "align_items": null,
            "bottom": null,
            "_model_module": "@jupyter-widgets/base",
            "top": null,
            "grid_column": null,
            "overflow_y": null,
            "overflow_x": null,
            "grid_auto_flow": null,
            "grid_area": null,
            "grid_template_columns": null,
            "flex": null,
            "_model_name": "LayoutModel",
            "justify_items": null,
            "grid_row": null,
            "max_height": null,
            "align_content": null,
            "visibility": null,
            "align_self": null,
            "height": null,
            "min_height": null,
            "padding": null,
            "grid_auto_rows": null,
            "grid_gap": null,
            "max_width": null,
            "order": null,
            "_view_module_version": "1.2.0",
            "grid_template_areas": null,
            "object_position": null,
            "object_fit": null,
            "grid_auto_columns": null,
            "margin": null,
            "display": null,
            "left": null
          }
        }
      }
    }
  },
  "cells": [
    {
      "cell_type": "markdown",
      "metadata": {
        "id": "4P_ZKjuOfQxP",
        "colab_type": "text"
      },
      "source": [
        "### Simple linear regression"
      ]
    },
    {
      "cell_type": "code",
      "metadata": {
        "id": "KYIodUnZfboY",
        "colab_type": "code",
        "colab": {
          "base_uri": "https://localhost:8080/",
          "height": 35
        },
        "outputId": "d5eba5bd-fcb2-4736-b933-7c6a26b04248"
      },
      "source": [
        "import tensorflow as tf\n",
        "tf.__version__"
      ],
      "execution_count": null,
      "outputs": [
        {
          "output_type": "execute_result",
          "data": {
            "text/plain": [
              "'2.2.0-rc3'"
            ]
          },
          "metadata": {
            "tags": []
          },
          "execution_count": 2
        }
      ]
    },
    {
      "cell_type": "markdown",
      "metadata": {
        "id": "uXZ-57QHfQxR",
        "colab_type": "text"
      },
      "source": [
        "#### Steps of linear regression:\n",
        "1) Data generation \n",
        "2) Visualization \n",
        "3) Initialize variable\n",
        "4) train the model and check the values of variable\n",
        "5) prediction"
      ]
    },
    {
      "cell_type": "markdown",
      "metadata": {
        "id": "PFWcoOoYfQxS",
        "colab_type": "text"
      },
      "source": [
        "### MANUAL LINEAR REGRESSION"
      ]
    },
    {
      "cell_type": "markdown",
      "metadata": {
        "id": "YR0oU3eSfQxT",
        "colab_type": "text"
      },
      "source": [
        "Let's start with Data generation"
      ]
    },
    {
      "cell_type": "code",
      "metadata": {
        "id": "XFgWUx3IfQxT",
        "colab_type": "code",
        "colab": {}
      },
      "source": [
        "# import useful packages\n",
        "import numpy as np\n",
        "import matplotlib.pyplot as plt\n",
        "import tensorflow as tf\n",
        "from mpl_toolkits.mplot3d import Axes3D"
      ],
      "execution_count": null,
      "outputs": []
    },
    {
      "cell_type": "code",
      "metadata": {
        "id": "W-3etOhYfQxW",
        "colab_type": "code",
        "colab": {}
      },
      "source": [
        "# number of training examples\n",
        "observation = 1200\n",
        "\n",
        "# Let's generate two feautures\n",
        "x1 = np.random.uniform(-10, 10, size = (observation,1))\n",
        "x2 = np.random.uniform(-10, 10, size = (observation,1))\n",
        "\n",
        "gen_inputs = np.column_stack((x1, x2))\n",
        "\n",
        "noise = np.random.uniform(-1, 1, (observation,1)) # This will help the model to learn features\n",
        "\n",
        "# Let's genere the targets\n",
        "gen_target = 3*x1 + 2*x2 + 4 + noise\n",
        "\n",
        "# Let's save so that we can easily access it later\n",
        "np.savez('TF-INFO', inputs = gen_inputs, targets = gen_target)"
      ],
      "execution_count": null,
      "outputs": []
    },
    {
      "cell_type": "markdown",
      "metadata": {
        "id": "EIQxokeXfQxZ",
        "colab_type": "text"
      },
      "source": [
        "Let's visualize the data in 3D"
      ]
    },
    {
      "cell_type": "code",
      "metadata": {
        "id": "S6_rApmjfQxa",
        "colab_type": "code",
        "colab": {
          "base_uri": "https://localhost:8080/",
          "height": 248
        },
        "outputId": "29a28933-aefc-4740-b7df-866b9b8c3b6e"
      },
      "source": [
        "# let's reshape the targets before\n",
        "gen_target = gen_target.reshape(observation,)\n",
        "\n",
        "fig = plt.figure()\n",
        "ax = fig.add_subplot(111, projection='3d')\n",
        "\n",
        "# choose axis\n",
        "ax.plot(x1, x2, gen_target)\n",
        "\n",
        "# set axis\n",
        "ax.set_xlabel('x1')\n",
        "ax.set_ylabel('x2')\n",
        "ax.set_zlabel('gen_target')\n",
        "\n",
        "# use azim parameter to plot the data from different angle. One can change the value of azim to see the effect\n",
        "ax.view_init(azim=200)\n",
        "\n",
        "plt.show()\n",
        "\n",
        "#Let's reshape back our targets\n",
        "gen_target = gen_target.reshape(observation,1)"
      ],
      "execution_count": null,
      "outputs": [
        {
          "output_type": "display_data",
          "data": {
            "image/png": "[encoded data removed]",
            "text/plain": [
              "<Figure size 432x288 with 1 Axes>"
            ]
          },
          "metadata": {
            "tags": [],
            "needs_background": "light"
          }
        }
      ]
    },
    {
      "cell_type": "code",
      "metadata": {
        "id": "efa1QrpxfQxd",
        "colab_type": "code",
        "colab": {}
      },
      "source": [
        "# initalize the variable: weigh, bias and learning rate\n",
        "init_range = 0.1\n",
        "weigh = np.random.uniform(low=-init_range, high=init_range,size=(2,1))\n",
        "bias = np.random.uniform(low=-init_range, high=init_range,size=1)\n",
        "\n",
        "lr = 0.02"
      ],
      "execution_count": null,
      "outputs": []
    },
    {
      "cell_type": "code",
      "metadata": {
        "id": "-6S1rrSSfQxf",
        "colab_type": "code",
        "colab": {
          "base_uri": "https://localhost:8080/",
          "height": 1000
        },
        "outputId": "f7530e31-1617-4d22-cc34-0c5fce632504"
      },
      "source": [
        "# To train the model\n",
        "for i in range(300):\n",
        "    #output = xw + b\n",
        "    output = np.dot(gen_inputs, weigh) + bias\n",
        "    delta = output - gen_target\n",
        "    loss = np.sum(delta**2)/(2*observation)\n",
        "    print(loss)\n",
        "    \n",
        "    # To scaled the delta values\n",
        "    delta_scaled = delta / observation\n",
        "    \n",
        "    weigh = weigh - lr*np.dot(gen_inputs.T, delta_scaled)\n",
        "    bias = bias - lr*np.sum(delta_scaled)\n",
        "    \n",
        "    "
      ],
      "execution_count": null,
      "outputs": [
        {
          "output_type": "stream",
          "text": [
            "233.14434881632906\n",
            "32.8376839393445\n",
            "10.563613557992428\n",
            "7.848355005934446\n",
            "7.291351338164903\n",
            "6.981578064106047\n",
            "6.708790873585635\n",
            "6.449514000279079\n",
            "6.20079562976133\n",
            "5.961952491955309\n",
            "5.732564646000686\n",
            "5.51225471806812\n",
            "5.300663117793484\n",
            "5.0974447977851405\n",
            "4.90226839952127\n",
            "4.714815681045158\n",
            "4.534780994545199\n",
            "4.361870787600001\n",
            "4.19580312448918\n",
            "4.036307226483334\n",
            "3.8831230303300117\n",
            "3.736000764212046\n",
            "3.5947005404864845\n",
            "3.4589919645399587\n",
            "3.328653759122798\n",
            "3.2034734035492476\n",
            "3.0832467871755833\n",
            "2.9677778765910694\n",
            "2.8568783959790953\n",
            "2.7503675201273308\n",
            "2.6480715795863317\n",
            "2.5498237774958565\n",
            "2.4554639176171493\n",
            "2.364838143127762\n",
            "2.277798685752999\n",
            "2.1942036248249366\n",
            "2.113916655876157\n",
            "2.03680686839087\n",
            "1.9627485323510667\n",
            "1.8916208932296241\n",
            "1.8233079750961265\n",
            "1.757698391514333\n",
            "1.6946851639229714\n",
            "1.634165547203702\n",
            "1.5760408621518722\n",
            "1.5202163345768558\n",
            "1.4666009407696443\n",
            "1.4151072590857408\n",
            "1.3656513274013091\n",
            "1.3181525062102113\n",
            "1.272533347138659\n",
            "1.2287194666631238\n",
            "1.18663942482558\n",
            "1.1462246087483265\n",
            "1.1074091207584638\n",
            "1.070129670939583\n",
            "1.0343254739355057\n",
            "0.9999381498377803\n",
            "0.9669116289953407\n",
            "0.9351920605911118\n",
            "0.9047277248365091\n",
            "0.875468948640629\n",
            "0.8473680246166673\n",
            "0.8203791332934659\n",
            "0.7944582684053759\n",
            "0.7695631651386114\n",
            "0.7456532312170905\n",
            "0.7226894807154138\n",
            "0.7006344704910376\n",
            "0.6794522391320182\n",
            "0.6591082483207548\n",
            "0.6395693265181411\n",
            "0.6208036148762875\n",
            "0.6027805152916389\n",
            "0.5854706405137654\n",
            "0.5688457662284958\n",
            "0.5528787850372581\n",
            "0.5375436622575765\n",
            "0.5228153934726844\n",
            "0.5086699637609982\n",
            "0.49508430853901586\n",
            "0.48203627595375487\n",
            "0.46950459076344314\n",
            "0.4574688196475351\n",
            "0.4459093378895267\n",
            "0.4348072973782115\n",
            "0.4241445958752231\n",
            "0.41390384749874537\n",
            "0.40406835437526906\n",
            "0.3946220794131629\n",
            "0.385549620153675\n",
            "0.3768361836567221\n",
            "0.3684675623805192\n",
            "0.36043011101572137\n",
            "0.3527107242363019\n",
            "0.3452968153308914\n",
            "0.33817629567973584\n",
            "0.3313375550438091\n",
            "0.3247694426339397\n",
            "0.3184612489290855\n",
            "0.3124026882141132\n",
            "0.30658388180860113\n",
            "0.30099534195933586\n",
            "0.29562795637021444\n",
            "0.29047297334435346\n",
            "0.2855219875141629\n",
            "0.28076692613611764\n",
            "0.2762000359278886\n",
            "0.2718138704263629\n",
            "0.2676012778459445\n",
            "0.2635553894173329\n",
            "0.2596696081877732\n",
            "0.2559375982645087\n",
            "0.2523532744839025\n",
            "0.24891079248937933\n",
            "0.2456045392020129\n",
            "0.24242912366821676\n",
            "0.23937936826962006\n",
            "0.23645030028079225\n",
            "0.23363714376105188\n",
            "0.23093531176713958\n",
            "0.22834039887405955\n",
            "0.2258481739918883\n",
            "0.2234545734668473\n",
            "0.22115569445538114\n",
            "0.21894778856044564\n",
            "0.21682725571962275\n",
            "0.2147906383351039\n",
            "0.212834615635962\n",
            "0.21095599826352854\n",
            "0.20915172307103821\n",
            "0.20741884812907024\n",
            "0.20575454792863584\n",
            "0.20415610877409374\n",
            "0.20262092435838236\n",
            "0.20114649151334887\n",
            "0.1997304061282552\n",
            "0.19837035922979454\n",
            "0.19706413321723665\n",
            "0.1958095982465573\n",
            "0.19460470875765823\n",
            "0.19344750013901504\n",
            "0.1923360855243144\n",
            "0.19126865271585566\n",
            "0.19024346122970595\n",
            "0.18925883945778185\n",
            "0.1883131819422407\n",
            "0.18740494675772712\n",
            "0.18653265299721403\n",
            "0.1856948783573369\n",
            "0.18489025681928012\n",
            "0.1841174764214395\n",
            "0.1833752771202269\n",
            "0.18266244873552653\n",
            "0.18197782897745843\n",
            "0.18132030155122655\n",
            "0.1806887943369632\n",
            "0.18008227764160348\n",
            "0.1794997625199364\n",
            "0.1789402991620985\n",
            "0.17840297534487737\n",
            "0.17788691494430164\n",
            "0.17739127650709338\n",
            "0.17691525187865026\n",
            "0.1764580648853235\n",
            "0.17601897006884154\n",
            "0.17559725147081565\n",
            "0.17519222146534724\n",
            "0.1748032196378308\n",
            "0.17442961170812676\n",
            "0.1740707884963463\n",
            "0.17372616492956525\n",
            "0.17339517908784213\n",
            "0.17307729128799018\n",
            "0.17277198320360626\n",
            "0.17247875701992246\n",
            "0.1721971346221034\n",
            "0.17192665681566408\n",
            "0.17166688257773857\n",
            "0.1714173883379778\n",
            "0.17117776728790357\n",
            "0.17094762871759583\n",
            "0.17072659737862586\n",
            "0.17051431287220184\n",
            "0.17031042906152744\n",
            "0.17011461350741405\n",
            "0.16992654692622794\n",
            "0.1697459226692877\n",
            "0.16957244622286416\n",
            "0.16940583472796583\n",
            "0.16924581651912782\n",
            "0.16909213068145282\n",
            "0.16894452662518092\n",
            "0.16880276367709476\n",
            "0.16866661068809338\n",
            "0.16853584565629778\n",
            "0.16841025536506748\n",
            "0.16828963503534544\n",
            "0.1681737879917586\n",
            "0.168062525341932\n",
            "0.1679556656684942\n",
            "0.1678530347332699\n",
            "0.16775446519317933\n",
            "0.1676597963273791\n",
            "0.16756887377520266\n",
            "0.16748154928446976\n",
            "0.1673976804697563\n",
            "0.16731713058023034\n",
            "0.16723976827667547\n",
            "0.16716546741733823\n",
            "0.16709410685224904\n",
            "0.16702557022568443\n",
            "0.1669597457864441\n",
            "0.16689652620563766\n",
            "0.16683580840168122\n",
            "0.16677749337221923\n",
            "0.1667214860326985\n",
            "0.16666769506132903\n",
            "0.16661603275018147\n",
            "0.16656641486217616\n",
            "0.16651876049373188\n",
            "0.1664729919428501\n",
            "0.16642903458241892\n",
            "0.16638681673853162\n",
            "0.16634626957361973\n",
            "0.16630732697421144\n",
            "0.16626992544313088\n",
            "0.1662340039959645\n",
            "0.16619950406162357\n",
            "0.16616636938684243\n",
            "0.1661345459444553\n",
            "0.16610398184530392\n",
            "0.16607462725362981\n",
            "0.1660464343058159\n",
            "0.16601935703234336\n",
            "0.16599335128283638\n",
            "0.16596837465407419\n",
            "0.1659443864208507\n",
            "0.16592134746957093\n",
            "0.16589922023447495\n",
            "0.16587796863638601\n",
            "0.16585755802388163\n",
            "0.1658379551167939\n",
            "0.16581912795194478\n",
            "0.16580104583102953\n",
            "0.16578367927056117\n",
            "0.16576699995379793\n",
            "0.16575098068457075\n",
            "0.1657355953429401\n",
            "0.1657208188426055\n",
            "0.16570662709000245\n",
            "0.16569299694501627\n",
            "0.16567990618325215\n",
            "0.1656673334597969\n",
            "0.1656552582744157\n",
            "0.16564366093812594\n",
            "0.16563252254109323\n",
            "0.16562182492179892\n",
            "0.16561155063742639\n",
            "0.16560168293542063\n",
            "0.1655922057261725\n",
            "0.16558310355678374\n",
            "0.16557436158587105\n",
            "0.16556596555936623\n",
            "0.1655579017872749\n",
            "0.1655501571213542\n",
            "0.16554271893367437\n",
            "0.16553557509602831\n",
            "0.1655287139601561\n",
            "0.16552212433875263\n",
            "0.16551579548722553\n",
            "0.1655097170861766\n",
            "0.16550387922457493\n",
            "0.16549827238359735\n",
            "0.1654928874211071\n",
            "0.16548771555674752\n",
            "0.16548274835762558\n",
            "0.16547797772456144\n",
            "0.1654733958788825\n",
            "0.16546899534974044\n",
            "0.16546476896192908\n",
            "0.16546070982418573\n",
            "0.16545681131795417\n",
            "0.16545306708659305\n",
            "0.1654494710250112\n",
            "0.16544601726971342\n",
            "0.1654427001892391\n",
            "0.1654395143749806\n",
            "0.16543645463236417\n",
            "0.16543351597237982\n",
            "0.16543069360344687\n",
            "0.16542798292360084\n",
            "0.16542537951299008\n",
            "0.16542287912666884\n",
            "0.16542047768767584\n",
            "0.16541817128038672\n",
            "0.16541595614412927\n",
            "0.16541382866705168\n",
            "0.1654117853802335\n",
            "0.16540982295202888\n"
          ],
          "name": "stdout"
        }
      ]
    },
    {
      "cell_type": "code",
      "metadata": {
        "id": "dnGzz_YbfQxh",
        "colab_type": "code",
        "colab": {
          "base_uri": "https://localhost:8080/",
          "height": 52
        },
        "outputId": "1696be53-c761-4a65-c44b-4a40d9dc53c0"
      },
      "source": [
        "# check our bias and weigh\n",
        "print(weigh, bias)"
      ],
      "execution_count": null,
      "outputs": [
        {
          "output_type": "stream",
          "text": [
            "[[2.99764426]\n",
            " [2.00171856]] [3.99893705]\n"
          ],
          "name": "stdout"
        }
      ]
    },
    {
      "cell_type": "code",
      "metadata": {
        "id": "1VxI7NNmfQxk",
        "colab_type": "code",
        "colab": {
          "base_uri": "https://localhost:8080/",
          "height": 279
        },
        "outputId": "314c59c7-4588-4d32-ff8b-fd4563c73ab6"
      },
      "source": [
        "# let's plot output and target\n",
        "plt.plot(output, gen_target)\n",
        "plt.xlabel('output')\n",
        "plt.ylabel('target')\n",
        "plt.show()\n",
        "\n",
        "# the target and the output are closer"
      ],
      "execution_count": null,
      "outputs": [
        {
          "output_type": "display_data",
          "data": {
            "image/png": "[encoded data removed]",
            "text/plain": [
              "<Figure size 432x288 with 1 Axes>"
            ]
          },
          "metadata": {
            "tags": [],
            "needs_background": "light"
          }
        }
      ]
    },
    {
      "cell_type": "markdown",
      "metadata": {
        "id": "f2fI7sTgfQxm",
        "colab_type": "text"
      },
      "source": [
        "### Now let's solve linear regression using tensorflow"
      ]
    },
    {
      "cell_type": "code",
      "metadata": {
        "id": "AYnSTvFCfQxm",
        "colab_type": "code",
        "colab": {}
      },
      "source": [
        "# load training data from npz file\n",
        "training_data = np.load('TF-INFO.npz')"
      ],
      "execution_count": null,
      "outputs": []
    },
    {
      "cell_type": "code",
      "metadata": {
        "scrolled": true,
        "id": "miHivzO1fQxo",
        "colab_type": "code",
        "colab": {
          "base_uri": "https://localhost:8080/",
          "height": 728
        },
        "outputId": "1bb355c1-6e95-418f-90af-882842d2cac6"
      },
      "source": [
        "# Let's create our model using keras\n",
        "input_size = 2\n",
        "output_size = 1\n",
        "\n",
        "model = tf.keras.Sequential([\n",
        "    # use the dense layer that represent our mathematical formula xw + b\n",
        "    tf.keras.layers.Dense(output_size, \n",
        "                          kernel_initializer=tf.random_uniform_initializer(minval=-0.1, maxval=0.1),\n",
        "                          bias_initializer = tf.random_uniform_initializer(minval=-0.1, maxval=0.1)\n",
        "                        \n",
        "    )\n",
        "])\n",
        "optim = tf.keras.optimizers.SGD()\n",
        "model.compile(optimizer=optim, loss='mean_squared_error')\n",
        "model.fit(training_data['inputs'], training_data['targets'], epochs=20, verbose=2)"
      ],
      "execution_count": null,
      "outputs": [
        {
          "output_type": "stream",
          "text": [
            "Epoch 1/20\n",
            "38/38 - 0s - loss: 23.2553\n",
            "Epoch 2/20\n",
            "38/38 - 0s - loss: 2.2180\n",
            "Epoch 3/20\n",
            "38/38 - 0s - loss: 0.7428\n",
            "Epoch 4/20\n",
            "38/38 - 0s - loss: 0.4259\n",
            "Epoch 5/20\n",
            "38/38 - 0s - loss: 0.3622\n",
            "Epoch 6/20\n",
            "38/38 - 0s - loss: 0.3441\n",
            "Epoch 7/20\n",
            "38/38 - 0s - loss: 0.3415\n",
            "Epoch 8/20\n",
            "38/38 - 0s - loss: 0.3449\n",
            "Epoch 9/20\n",
            "38/38 - 0s - loss: 0.3421\n",
            "Epoch 10/20\n",
            "38/38 - 0s - loss: 0.3411\n",
            "Epoch 11/20\n",
            "38/38 - 0s - loss: 0.3410\n",
            "Epoch 12/20\n",
            "38/38 - 0s - loss: 0.3376\n",
            "Epoch 13/20\n",
            "38/38 - 0s - loss: 0.3431\n",
            "Epoch 14/20\n",
            "38/38 - 0s - loss: 0.3442\n",
            "Epoch 15/20\n",
            "38/38 - 0s - loss: 0.3390\n",
            "Epoch 16/20\n",
            "38/38 - 0s - loss: 0.3450\n",
            "Epoch 17/20\n",
            "38/38 - 0s - loss: 0.3386\n",
            "Epoch 18/20\n",
            "38/38 - 0s - loss: 0.3412\n",
            "Epoch 19/20\n",
            "38/38 - 0s - loss: 0.3486\n",
            "Epoch 20/20\n",
            "38/38 - 0s - loss: 0.3415\n"
          ],
          "name": "stdout"
        },
        {
          "output_type": "execute_result",
          "data": {
            "text/plain": [
              "<tensorflow.python.keras.callbacks.History at 0x7f5a805f50b8>"
            ]
          },
          "metadata": {
            "tags": []
          },
          "execution_count": 11
        }
      ]
    },
    {
      "cell_type": "markdown",
      "metadata": {
        "id": "DQDNTs_NfQxq",
        "colab_type": "text"
      },
      "source": [
        "#### extract weigh and bias to check our response\n"
      ]
    },
    {
      "cell_type": "code",
      "metadata": {
        "id": "PwF_xOb3fQxr",
        "colab_type": "code",
        "colab": {
          "base_uri": "https://localhost:8080/",
          "height": 52
        },
        "outputId": "6ad0f760-d393-4628-d22b-04f7f74e820b"
      },
      "source": [
        "# extract weigh and bias to check our response\n",
        "model.layers[0].get_weights()"
      ],
      "execution_count": null,
      "outputs": [
        {
          "output_type": "execute_result",
          "data": {
            "text/plain": [
              "[array([[3.0180697],\n",
              "        [2.0067937]], dtype=float32), array([4.0121284], dtype=float32)]"
            ]
          },
          "metadata": {
            "tags": []
          },
          "execution_count": 12
        }
      ]
    },
    {
      "cell_type": "code",
      "metadata": {
        "id": "1WUlbwS7fQxt",
        "colab_type": "code",
        "colab": {
          "base_uri": "https://localhost:8080/",
          "height": 52
        },
        "outputId": "1dfd07b7-6d1e-46ac-c4d0-d0fa48cfbd46"
      },
      "source": [
        "# save weigh and bias in a separate variable\n",
        "weigh = model.layers[0].get_weights()[0]\n",
        "weigh"
      ],
      "execution_count": null,
      "outputs": [
        {
          "output_type": "execute_result",
          "data": {
            "text/plain": [
              "array([[3.0180697],\n",
              "       [2.0067937]], dtype=float32)"
            ]
          },
          "metadata": {
            "tags": []
          },
          "execution_count": 13
        }
      ]
    },
    {
      "cell_type": "code",
      "metadata": {
        "id": "2nGHsPI7fQxv",
        "colab_type": "code",
        "colab": {
          "base_uri": "https://localhost:8080/",
          "height": 35
        },
        "outputId": "e2b5e990-d535-4ca0-ff45-2c355cdf02bd"
      },
      "source": [
        "bias = model.layers[0].get_weights()[1]\n",
        "bias"
      ],
      "execution_count": null,
      "outputs": [
        {
          "output_type": "execute_result",
          "data": {
            "text/plain": [
              "array([4.0121284], dtype=float32)"
            ]
          },
          "metadata": {
            "tags": []
          },
          "execution_count": 14
        }
      ]
    },
    {
      "cell_type": "markdown",
      "metadata": {
        "id": "VuraJUptfQxx",
        "colab_type": "text"
      },
      "source": [
        "#### Extract the output (make predictions)\n"
      ]
    },
    {
      "cell_type": "code",
      "metadata": {
        "id": "uIGzIcpwfQxx",
        "colab_type": "code",
        "colab": {
          "base_uri": "https://localhost:8080/",
          "height": 139
        },
        "outputId": "34ee3409-2da2-435e-9b45-5b96a321a502"
      },
      "source": [
        "model.predict_on_batch(training_data['inputs']).round(1)"
      ],
      "execution_count": null,
      "outputs": [
        {
          "output_type": "execute_result",
          "data": {
            "text/plain": [
              "array([[13.2],\n",
              "       [10.3],\n",
              "       [22.4],\n",
              "       ...,\n",
              "       [-8. ],\n",
              "       [20. ],\n",
              "       [12.1]], dtype=float32)"
            ]
          },
          "metadata": {
            "tags": []
          },
          "execution_count": 15
        }
      ]
    },
    {
      "cell_type": "code",
      "metadata": {
        "id": "he0gYfZPfQxz",
        "colab_type": "code",
        "colab": {
          "base_uri": "https://localhost:8080/",
          "height": 139
        },
        "outputId": "b7e0e118-e142-47a2-96d0-883275f15a7c"
      },
      "source": [
        "training_data['targets'].round(1)"
      ],
      "execution_count": null,
      "outputs": [
        {
          "output_type": "execute_result",
          "data": {
            "text/plain": [
              "array([[14. ],\n",
              "       [ 9.6],\n",
              "       [22.2],\n",
              "       ...,\n",
              "       [-8.9],\n",
              "       [19.1],\n",
              "       [11.7]])"
            ]
          },
          "metadata": {
            "tags": []
          },
          "execution_count": 16
        }
      ]
    },
    {
      "cell_type": "code",
      "metadata": {
        "id": "kiUg-R35fQx1",
        "colab_type": "code",
        "colab": {
          "base_uri": "https://localhost:8080/",
          "height": 279
        },
        "outputId": "38a94716-7e51-4a6b-f1e7-e36b3c77df5b"
      },
      "source": [
        "# plotting the data\n",
        "plt.plot(np.squeeze(model.predict_on_batch(training_data['inputs'])), np.squeeze(training_data['targets']))\n",
        "plt.xlabel('inputs')\n",
        "plt.ylabel('targets')\n",
        "plt.show()"
      ],
      "execution_count": null,
      "outputs": [
        {
          "output_type": "display_data",
          "data": {
            "image/png": "[encoded data removed]",
            "text/plain": [
              "<Figure size 432x288 with 1 Axes>"
            ]
          },
          "metadata": {
            "tags": [],
            "needs_background": "light"
          }
        }
      ]
    },
    {
      "cell_type": "markdown",
      "metadata": {
        "id": "8o-F2SGDfQx4",
        "colab_type": "text"
      },
      "source": [
        "### Deep neural network for MNIST Classification"
      ]
    },
    {
      "cell_type": "markdown",
      "metadata": {
        "id": "Pye1v4X8lOX_",
        "colab_type": "text"
      },
      "source": [
        "The dataset is called MNIST and refers to handwritten digit recognition. The dataset provides 70,000 images (28x28 pixels) of handwritten digits (1 digit per image). \n",
        "\n",
        "The goal is to write an algorithm that detects which digit is written. Since there are only 10 digits (0, 1, 2, 3, 4, 5, 6, 7, 8, 9), this is a classification problem with 10 classes. "
      ]
    },
    {
      "cell_type": "code",
      "metadata": {
        "id": "5G1J0YqnfQx4",
        "colab_type": "code",
        "colab": {}
      },
      "source": [
        "#!pip3 install tensorflow-datasets\n",
        "#!pip install -q tensorflow tensorflow-datasets matplotlib\n",
        "#!pip install tensorflow==2.1.0\n",
        "#!pip install --upgrade tensorflow"
      ],
      "execution_count": null,
      "outputs": []
    },
    {
      "cell_type": "code",
      "metadata": {
        "id": "z__PJZ7mfQx7",
        "colab_type": "code",
        "colab": {}
      },
      "source": [
        "#!pip install tensorflow==2.0.0-beta0\n",
        "#!pip3 install tensorflow"
      ],
      "execution_count": null,
      "outputs": []
    },
    {
      "cell_type": "code",
      "metadata": {
        "id": "UirVeb5TfQx9",
        "colab_type": "code",
        "colab": {
          "base_uri": "https://localhost:8080/",
          "height": 35
        },
        "outputId": "ce4dda74-8c47-4dcf-90e5-13871f59265e"
      },
      "source": [
        "import tensorflow as tf\n",
        "tf.__version__"
      ],
      "execution_count": null,
      "outputs": [
        {
          "output_type": "execute_result",
          "data": {
            "text/plain": [
              "'2.2.0-rc3'"
            ]
          },
          "metadata": {
            "tags": []
          },
          "execution_count": 20
        }
      ]
    },
    {
      "cell_type": "code",
      "metadata": {
        "id": "Y0Uy1xbIfQx_",
        "colab_type": "code",
        "colab": {}
      },
      "source": [
        "#!pip install tensorflow-datasets\n"
      ],
      "execution_count": null,
      "outputs": []
    },
    {
      "cell_type": "code",
      "metadata": {
        "id": "L6KLcOcsfQyB",
        "colab_type": "code",
        "colab": {}
      },
      "source": [
        "#from keras.datasets import mnist\n",
        "import tensorflow_datasets as tfds"
      ],
      "execution_count": null,
      "outputs": []
    },
    {
      "cell_type": "code",
      "metadata": {
        "id": "RAfhc2n5fQyD",
        "colab_type": "code",
        "colab": {
          "base_uri": "https://localhost:8080/",
          "height": 225,
          "referenced_widgets": [
            "040c3e5f40fa4c398a0fedfc128ae992",
            "64474e238476402eb7dd44bcbf436c08",
            "4729cdf5a11047f8bd1502ee19efdd49",
            "9b5731ff61f34ef2955b08e2f6c56975",
            "51572dc1f42040edb317a4ec5318fac7",
            "043adb31b0994055b64beb800f7a5002",
            "69685db07b7f4b99ae1c187621b7cdd9",
            "6bbc76210940482bb54474edfe0c79ba"
          ]
        },
        "outputId": "38747e73-9caa-43df-812c-36c573cb61a7"
      },
      "source": [
        "# To load the data\n",
        "#(mnist_train, target_train), (mnist_test, target_test) = mnist.load_data()\n",
        "mnist_dataset, mnist_info = tfds.load(name='mnist', with_info=True, as_supervised=True)\n"
      ],
      "execution_count": null,
      "outputs": [
        {
          "output_type": "stream",
          "text": [
            "\u001b[1mDownloading and preparing dataset mnist/3.0.0 (download: 11.06 MiB, generated: Unknown size, total: 11.06 MiB) to /root/tensorflow_datasets/mnist/3.0.0...\u001b[0m\n"
          ],
          "name": "stdout"
        },
        {
          "output_type": "stream",
          "text": [
            "WARNING:absl:Dataset mnist is hosted on GCS. It will automatically be downloaded to your\n",
            "local data directory. If you'd instead prefer to read directly from our public\n",
            "GCS bucket (recommended if you're running on GCP), you can instead set\n",
            "data_dir=gs://tfds-data/datasets.\n",
            "\n"
          ],
          "name": "stderr"
        },
        {
          "output_type": "display_data",
          "data": {
            "application/vnd.jupyter.widget-view+json": {
              "model_id": "040c3e5f40fa4c398a0fedfc128ae992",
              "version_minor": 0,
              "version_major": 2
            },
            "text/plain": [
              "HBox(children=(IntProgress(value=0, description='Dl Completed...', max=4, style=ProgressStyle(description_widt…"
            ]
          },
          "metadata": {
            "tags": []
          }
        },
        {
          "output_type": "stream",
          "text": [
            "\n",
            "\n",
            "\u001b[1mDataset mnist downloaded and prepared to /root/tensorflow_datasets/mnist/3.0.0. Subsequent calls will reuse this data.\u001b[0m\n"
          ],
          "name": "stdout"
        }
      ]
    },
    {
      "cell_type": "code",
      "metadata": {
        "id": "BOe8uwNLuVBX",
        "colab_type": "code",
        "colab": {
          "base_uri": "https://localhost:8080/",
          "height": 433
        },
        "outputId": "7c7fff5c-e323-4293-ee3b-b5ea58ec39b8"
      },
      "source": [
        "mnist_info"
      ],
      "execution_count": null,
      "outputs": [
        {
          "output_type": "execute_result",
          "data": {
            "text/plain": [
              "tfds.core.DatasetInfo(\n",
              "    name='mnist',\n",
              "    version=3.0.0,\n",
              "    description='The MNIST database of handwritten digits.',\n",
              "    homepage='http://yann.lecun.com/exdb/mnist/',\n",
              "    features=FeaturesDict({\n",
              "        'image': Image(shape=(28, 28, 1), dtype=tf.uint8),\n",
              "        'label': ClassLabel(shape=(), dtype=tf.int64, num_classes=10),\n",
              "    }),\n",
              "    total_num_examples=70000,\n",
              "    splits={\n",
              "        'test': 10000,\n",
              "        'train': 60000,\n",
              "    },\n",
              "    supervised_keys=('image', 'label'),\n",
              "    citation=\"\"\"@article{lecun2010mnist,\n",
              "      title={MNIST handwritten digit database},\n",
              "      author={LeCun, Yann and Cortes, Corinna and Burges, CJ},\n",
              "      journal={ATT Labs [Online]. Available: http://yann. lecun. com/exdb/mnist},\n",
              "      volume={2},\n",
              "      year={2010}\n",
              "    }\"\"\",\n",
              "    redistribution_info=,\n",
              ")"
            ]
          },
          "metadata": {
            "tags": []
          },
          "execution_count": 23
        }
      ]
    },
    {
      "cell_type": "code",
      "metadata": {
        "id": "krgrIEcyfQyF",
        "colab_type": "code",
        "colab": {}
      },
      "source": [
        "# def scale(image, label):\n",
        "#     # make sure the values are float\n",
        "#     image = tf.cast(image, tf.float32)\n",
        "#     image /=255\n",
        "#     return image, label\n",
        "\n",
        "# #print(mnist_train.reshape(60000,-1).shape)\n",
        "# mnist_train = tf.convert_to_tensor(\n",
        "#     mnist_train, dtype=tf.float64)\n",
        "\n",
        "# scale_mnist_train = mnist_train.map(scale)\n",
        "# scale_mnist_test = mnist_train.map(scale)\n",
        "# train = np.concatenate([scale_mnist_train.reshape(60000,-1), target_train.reshape(-1,1)], axis = 1)\n",
        "\n",
        "# train_shuffle = np.random.permutation(train)\n",
        "\n",
        "# X = train_shuffle[:int(.9*len(train))]\n",
        "# print(X.shape)\n",
        "# V = train_shuffle[int(.9*len(train)):]\n",
        "# feature = X[:,:-1].reshape(len(X), 28,28)\n",
        "# target = X[:,-1]\n",
        "# feature_v = V[:,:-1].reshape(-1, 28,28)\n",
        "# target_v = V[:,-1]"
      ],
      "execution_count": null,
      "outputs": []
    },
    {
      "cell_type": "code",
      "metadata": {
        "id": "dAg2r3FVfQyH",
        "colab_type": "code",
        "colab": {}
      },
      "source": [
        "# to split the data\n",
        "mnist_train, mnist_test = mnist_dataset['train'], mnist_dataset['test']\n",
        "num_validation_samples = 0.1*mnist_info.splits['train'].num_examples\n",
        "# # let's cast this number to an integer\n",
        "num_validation_samples = tf.cast(num_validation_samples, tf.int64)\n",
        "\n",
        "num_test_samples = mnist_info.splits['test'].num_examples\n",
        "num_test_samples = tf.cast(num_test_samples, tf.int64)\n"
      ],
      "execution_count": null,
      "outputs": []
    },
    {
      "cell_type": "code",
      "metadata": {
        "id": "B-EDeFugfQyM",
        "colab_type": "code",
        "colab": {}
      },
      "source": [
        "# Let's scale our images\n",
        "def scale(image, label):\n",
        "    # make sure the values are float\n",
        "    image = tf.cast(image, tf.float32)\n",
        "    image /=255\n",
        "    return image, label\n",
        "\n",
        "\n",
        "# to apply this scale function to our train and test set by using .map() function\n",
        "scale_train_and_validation_data = mnist_train.map(scale)\n",
        "scale_test_data = mnist_test.map(scale)\n",
        "\n",
        "# # to shuffle the data\n",
        "BUFFER_SIZE = 10000\n",
        "shuffle_train_and_validation_data = scale_train_and_validation_data.shuffle(BUFFER_SIZE)\n",
        "\n",
        "# let's extract our validation and train data from the shufle data\n",
        "validation_data = shuffle_train_and_validation_data.take(num_validation_samples)\n",
        "train_data = shuffle_train_and_validation_data.skip(num_validation_samples)\n",
        "\n",
        "# let's set the batch size\n",
        "batch_size = 100 # One can try with batch_size = 150\n",
        "train_data = train_data.batch(batch_size)\n",
        "validation_data = validation_data.batch(num_validation_samples)\n",
        "test_data = scale_test_data.batch(num_test_samples)\n",
        "\n",
        "# takes next batch (it is the only batch)\n",
        "validation_inputs, validation_targets = next(iter(validation_data))"
      ],
      "execution_count": null,
      "outputs": []
    },
    {
      "cell_type": "markdown",
      "metadata": {
        "id": "FChRIdV8fQyO",
        "colab_type": "text"
      },
      "source": [
        "### Model"
      ]
    },
    {
      "cell_type": "code",
      "metadata": {
        "id": "VrcGNfMHfQyO",
        "colab_type": "code",
        "colab": {
          "base_uri": "https://localhost:8080/",
          "height": 381
        },
        "outputId": "5a18c709-1d89-43bb-d72d-c6efe4b3417c"
      },
      "source": [
        "input_size = 28*28\n",
        "output_size = 10\n",
        "\n",
        "hidden_layer_size = 50 # One can try to use hidden_layer_size=5000\n",
        "\n",
        "model = tf.keras.Sequential([\n",
        "    \n",
        "    tf.keras.layers.Flatten(input_shape = (28,28,1)), # we can add more layers (up to 10)\n",
        "    \n",
        "    # tf.keras.layers.Dense(hidden_layer_size, activation='relu'),\n",
        "    # tf.keras.layers.Dense(hidden_layer_size, activation='relu'),\n",
        "    # tf.keras.layers.Dense(hidden_layer_size, activation='relu'),\n",
        "    # tf.keras.layers.Dense(hidden_layer_size, activation='relu'),\n",
        "    # tf.keras.layers.Dense(hidden_layer_size, activation='relu'),\n",
        "    # tf.keras.layers.Dense(hidden_layer_size, activation='relu'),\n",
        "    # tf.keras.layers.Dense(hidden_layer_size, activation='relu'),\n",
        "    # tf.keras.layers.Dense(hidden_layer_size, activation='relu'),\n",
        "    \n",
        "    tf.keras.layers.Dense(hidden_layer_size, activation='relu'),\n",
        "    tf.keras.layers.Dense(hidden_layer_size, activation='relu'),\n",
        "    \n",
        "    tf.keras.layers.Dense(output_size, activation='softmax')\n",
        "    \n",
        "])\n",
        "\n",
        "\n",
        "model.compile(optimizer='adam', loss = 'sparse_categorical_crossentropy', metrics=['accuracy'])\n",
        "num_epochs = 10\n",
        "model.fit(train_data, epochs=num_epochs, validation_data=(validation_inputs, validation_targets), verbose=2)"
      ],
      "execution_count": null,
      "outputs": [
        {
          "output_type": "stream",
          "text": [
            "Epoch 1/10\n",
            "540/540 - 9s - loss: 0.4174 - accuracy: 0.8834 - val_loss: 0.2202 - val_accuracy: 0.9350\n",
            "Epoch 2/10\n",
            "540/540 - 8s - loss: 0.1894 - accuracy: 0.9456 - val_loss: 0.1558 - val_accuracy: 0.9552\n",
            "Epoch 3/10\n",
            "540/540 - 9s - loss: 0.1404 - accuracy: 0.9594 - val_loss: 0.1237 - val_accuracy: 0.9655\n",
            "Epoch 4/10\n",
            "540/540 - 8s - loss: 0.1173 - accuracy: 0.9654 - val_loss: 0.1041 - val_accuracy: 0.9708\n",
            "Epoch 5/10\n",
            "540/540 - 8s - loss: 0.0985 - accuracy: 0.9714 - val_loss: 0.0945 - val_accuracy: 0.9725\n",
            "Epoch 6/10\n",
            "540/540 - 8s - loss: 0.0866 - accuracy: 0.9753 - val_loss: 0.0963 - val_accuracy: 0.9703\n",
            "Epoch 7/10\n",
            "540/540 - 8s - loss: 0.0752 - accuracy: 0.9779 - val_loss: 0.0838 - val_accuracy: 0.9743\n",
            "Epoch 8/10\n",
            "540/540 - 8s - loss: 0.0677 - accuracy: 0.9793 - val_loss: 0.0692 - val_accuracy: 0.9797\n",
            "Epoch 9/10\n",
            "540/540 - 8s - loss: 0.0610 - accuracy: 0.9819 - val_loss: 0.0631 - val_accuracy: 0.9813\n",
            "Epoch 10/10\n",
            "540/540 - 8s - loss: 0.0538 - accuracy: 0.9839 - val_loss: 0.0626 - val_accuracy: 0.9800\n"
          ],
          "name": "stdout"
        },
        {
          "output_type": "execute_result",
          "data": {
            "text/plain": [
              "<tensorflow.python.keras.callbacks.History at 0x7f5a52710320>"
            ]
          },
          "metadata": {
            "tags": []
          },
          "execution_count": 27
        }
      ]
    },
    {
      "cell_type": "markdown",
      "metadata": {
        "id": "reGTJZYVfQyQ",
        "colab_type": "text"
      },
      "source": [
        "### Test of the model"
      ]
    },
    {
      "cell_type": "code",
      "metadata": {
        "id": "IMsHPmO5fQyQ",
        "colab_type": "code",
        "colab": {
          "base_uri": "https://localhost:8080/",
          "height": 52
        },
        "outputId": "01e94e2a-958b-4b13-ffb3-9f391f3f1cf4"
      },
      "source": [
        "test_loss, test_accuracy = model.evaluate(test_data)\n",
        "\n",
        "print('test_loss: {0:.2f}. test_accuracy:{1:.2f}%'.format(test_loss, test_accuracy*100.)) "
      ],
      "execution_count": null,
      "outputs": [
        {
          "output_type": "stream",
          "text": [
            "1/1 [==============================] - 0s 1ms/step - loss: 0.0932 - accuracy: 0.9718\n",
            "test_loss: 0.09. test_accuracy:97.18%\n"
          ],
          "name": "stdout"
        }
      ]
    },
    {
      "cell_type": "markdown",
      "metadata": {
        "id": "uE2mo2lQN_HR",
        "colab_type": "text"
      },
      "source": [
        "#### The test_accuracy below shows that our model is good at 97.18%. It means that for any new image, the model can classify it with an uncertainty of 3%."
      ]
    },
    {
      "cell_type": "code",
      "metadata": {
        "id": "yXa4a_bN2mDJ",
        "colab_type": "code",
        "colab": {}
      },
      "source": [
        ""
      ],
      "execution_count": null,
      "outputs": []
    }
  ]
}